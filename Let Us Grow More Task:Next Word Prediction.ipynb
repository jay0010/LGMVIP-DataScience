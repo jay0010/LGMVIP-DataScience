{
  "nbformat": 4,
  "nbformat_minor": 0,
  "metadata": {
    "colab": {
      "name": "Using Tensorflow and Keras library train a RNN.ipynb",
      "provenance": [],
      "mount_file_id": "1Wu-R4YbS_S8qleSkHV4l9mi2sgFRVNtK",
      "authorship_tag": "ABX9TyNS5rcOHosgb8Mb5Z+TuAuR",
      "include_colab_link": true
    },
    "kernelspec": {
      "name": "python3",
      "display_name": "Python 3"
    },
    "language_info": {
      "name": "python"
    }
  },
  "cells": [
    {
      "cell_type": "markdown",
      "metadata": {
        "id": "view-in-github",
        "colab_type": "text"
      },
      "source": [
        "<a href=\"https://colab.research.google.com/github/jay0010/LGMVIP-DataScience/blob/main/Let%20Us%20Grow%20More%20Task%3ANext%20Word%20Prediction.ipynb\" target=\"_parent\"><img src=\"https://colab.research.google.com/assets/colab-badge.svg\" alt=\"Open In Colab\"/></a>"
      ]
    },
    {
      "cell_type": "markdown",
      "metadata": {
        "id": "qFwHlNRqrIrn"
      },
      "source": [
        "\n",
        "# **NAME : JAYAN KOKRU**\n",
        "# **LETS GROW MORE VIRTUAL INTERNSHIP PROGRAM(VIP)**"
      ]
    },
    {
      "cell_type": "markdown",
      "metadata": {
        "id": "i14zpybgpAbF"
      },
      "source": [
        "# **ADVANCED LEVEL TASK :**\n",
        "\n",
        "# **Next Word Prediction** :\n",
        "\n",
        "\n",
        "## Using Tensorflow and Keras library train a RNN, to predict the next word. Dataset Link: https://drive.google.com/file/d/1GeUzNVqiixXHnTl8oNiQ2W3CynX_lsu2/view \n",
        "\n",
        "For problem statements and guidance \n",
        "\n",
        "## Watch Tutorial from here https://youtu.be/CBCfOTePVPo"
      ]
    },
    {
      "cell_type": "markdown",
      "metadata": {
        "id": "pB_X-4Avoiu7"
      },
      "source": [
        "## **Importing Libraries**"
      ]
    },
    {
      "cell_type": "code",
      "metadata": {
        "id": "Q0iQUhORm_tp"
      },
      "source": [
        "import numpy as np\n",
        "from nltk.tokenize import RegexpTokenizer\n",
        "from keras.models import Sequential, load_model\n",
        "from keras.layers import LSTM\n",
        "from keras.layers.core import Dense, Activation\n",
        "from tensorflow.keras.optimizers import RMSprop\n",
        "import matplotlib.pyplot as plt\n",
        "import pickle\n",
        "import heapq"
      ],
      "execution_count": null,
      "outputs": []
    },
    {
      "cell_type": "markdown",
      "metadata": {
        "id": "tC3ttqkqoqjR"
      },
      "source": [
        "## **Loading Data**"
      ]
    },
    {
      "cell_type": "code",
      "metadata": {
        "colab": {
          "base_uri": "https://localhost:8080/"
        },
        "id": "-ehqneDNnDuR",
        "outputId": "666de3ee-340f-4383-8cd4-6e48b135af5a"
      },
      "source": [
        "from google.colab import drive\n",
        "path = r'/content/drive/MyDrive/lgmvip_advanced/1661-0.txt'\n",
        "text = open(path, encoding='utf-8').read().lower()\n",
        "print('corpus length:', len(text))"
      ],
      "execution_count": null,
      "outputs": [
        {
          "output_type": "stream",
          "name": "stdout",
          "text": [
            "corpus length: 581888\n"
          ]
        }
      ]
    },
    {
      "cell_type": "markdown",
      "metadata": {
        "id": "BkHNNRxooztT"
      },
      "source": [
        "## **Splitting entire dataset into each different word**"
      ]
    },
    {
      "cell_type": "code",
      "metadata": {
        "id": "WWBLiqP6nFzf"
      },
      "source": [
        "tokenizer = RegexpTokenizer(r'\\w+')\n",
        "words = tokenizer.tokenize(text)"
      ],
      "execution_count": null,
      "outputs": []
    },
    {
      "cell_type": "markdown",
      "metadata": {
        "id": "ZByW2E5qpe7K"
      },
      "source": [
        "## **A Unique sorted words list.**"
      ]
    },
    {
      "cell_type": "code",
      "metadata": {
        "id": "C864KVOvnRD9"
      },
      "source": [
        "unique_words = np.unique(words)\n",
        "unique_word_index = dict((c, i) for i, c in enumerate(unique_words))"
      ],
      "execution_count": null,
      "outputs": []
    },
    {
      "cell_type": "markdown",
      "metadata": {
        "id": "1uh1ud5fpqhp"
      },
      "source": [
        "## **Feature Engineering and,  One Hot Encoding**"
      ]
    },
    {
      "cell_type": "code",
      "metadata": {
        "colab": {
          "base_uri": "https://localhost:8080/"
        },
        "id": "A8wcsejzn-iF",
        "outputId": "1384d92e-fc43-4aba-982f-8eb4ca9b3bca"
      },
      "source": [
        "WORD_LENGTH = 5\n",
        "prev_words = []\n",
        "next_words = []\n",
        "for i in range(len(words) - WORD_LENGTH):\n",
        "    prev_words.append(words[i:i + WORD_LENGTH])\n",
        "    next_words.append(words[i + WORD_LENGTH])\n",
        "print(prev_words[0])\n",
        "print(next_words[0])"
      ],
      "execution_count": null,
      "outputs": [
        {
          "output_type": "stream",
          "name": "stdout",
          "text": [
            "['project', 'gutenberg', 's', 'the', 'adventures']\n",
            "of\n"
          ]
        }
      ]
    },
    {
      "cell_type": "markdown",
      "metadata": {
        "id": "38AAzODkpxBJ"
      },
      "source": [
        "## **X : Storing features  and, Y : Stores corresponding label(here, next word)**"
      ]
    },
    {
      "cell_type": "code",
      "metadata": {
        "id": "CIORwiOHoBck"
      },
      "source": [
        "X = np.zeros((len(prev_words), WORD_LENGTH, len(unique_words)), dtype=bool)\n",
        "Y = np.zeros((len(next_words), len(unique_words)), dtype=bool)\n",
        "for i, each_words in enumerate(prev_words):\n",
        "    for j, each_word in enumerate(each_words):\n",
        "        X[i, j, unique_word_index[each_word]] = 1\n",
        "    Y[i, unique_word_index[next_words[i]]] = 1"
      ],
      "execution_count": null,
      "outputs": []
    },
    {
      "cell_type": "code",
      "metadata": {
        "colab": {
          "base_uri": "https://localhost:8080/"
        },
        "id": "Vw8tQw4yoCSY",
        "outputId": "7d1a084b-082e-4413-c143-51e0052af5e6"
      },
      "source": [
        "print(X[0][0])           "
      ],
      "execution_count": null,
      "outputs": [
        {
          "output_type": "stream",
          "name": "stdout",
          "text": [
            "[False False False ... False False False]\n"
          ]
        }
      ]
    },
    {
      "cell_type": "markdown",
      "metadata": {
        "id": "AtKKiYnAp-hq"
      },
      "source": [
        "## **Building  Model**"
      ]
    },
    {
      "cell_type": "code",
      "metadata": {
        "id": "-mq1bKOMoHs5"
      },
      "source": [
        "model = Sequential()\n",
        "model.add(LSTM(128, input_shape=(WORD_LENGTH, len(unique_words))))\n",
        "model.add(Dense(len(unique_words)))\n",
        "model.add(Activation('softmax'))"
      ],
      "execution_count": null,
      "outputs": []
    },
    {
      "cell_type": "markdown",
      "metadata": {
        "id": "5YrkJb-vqC0M"
      },
      "source": [
        "## **Training Model**\n"
      ]
    },
    {
      "cell_type": "code",
      "metadata": {
        "colab": {
          "base_uri": "https://localhost:8080/"
        },
        "id": "HALM3Bf6oK6A",
        "outputId": "05e59255-b2f1-4b3d-8b72-c7ffc4df17cc"
      },
      "source": [
        "optimizer = RMSprop(lr=0.01)\n",
        "model.compile(loss='categorical_crossentropy', optimizer=optimizer, metrics=['accuracy'])\n",
        "history = model.fit(X, Y, validation_split=0.05, batch_size=128, epochs=2, shuffle=True).history"
      ],
      "execution_count": null,
      "outputs": [
        {
          "output_type": "stream",
          "name": "stderr",
          "text": [
            "/usr/local/lib/python3.7/dist-packages/keras/optimizer_v2/optimizer_v2.py:356: UserWarning: The `lr` argument is deprecated, use `learning_rate` instead.\n",
            "  \"The `lr` argument is deprecated, use `learning_rate` instead.\")\n"
          ]
        },
        {
          "output_type": "stream",
          "name": "stdout",
          "text": [
            "Epoch 1/2\n",
            "811/811 [==============================] - 252s 309ms/step - loss: 6.0164 - accuracy: 0.1068 - val_loss: 7.0001 - val_accuracy: 0.1038\n",
            "Epoch 2/2\n",
            "811/811 [==============================] - 257s 317ms/step - loss: 5.7797 - accuracy: 0.1476 - val_loss: 7.9854 - val_accuracy: 0.1066\n"
          ]
        }
      ]
    },
    {
      "cell_type": "markdown",
      "metadata": {
        "id": "SjoPQdNxqJjP"
      },
      "source": [
        "## **Load Model**\n",
        "\n"
      ]
    },
    {
      "cell_type": "code",
      "metadata": {
        "id": "Tidson7LoQSc"
      },
      "source": [
        "model.save('keras_next_word_model.h5')\n",
        "pickle.dump(history, open(\"history.p\", \"wb\"))\n",
        "model = load_model('keras_next_word_model.h5')\n",
        "history = pickle.load(open(\"history.p\", \"rb\"))"
      ],
      "execution_count": null,
      "outputs": []
    },
    {
      "cell_type": "markdown",
      "metadata": {
        "id": "imz3mg3WqRHA"
      },
      "source": [
        "## **Predicting Model**"
      ]
    },
    {
      "cell_type": "code",
      "metadata": {
        "id": "KVDvpN8hoTRY",
        "colab": {
          "base_uri": "https://localhost:8080/"
        },
        "outputId": "2dc6a1ca-d028-41ef-9b64-44254e930a94"
      },
      "source": [
        "def prepare_input(text):\n",
        "    x = np.zeros((1, WORD_LENGTH, len(unique_words)))\n",
        "    for t, word in enumerate(text.split()):\n",
        "        print(word)\n",
        "        x[0, t, unique_word_index[word]] = 1\n",
        "    return x\n",
        "prepare_input(\"It is not a lack\".lower())"
      ],
      "execution_count": null,
      "outputs": [
        {
          "output_type": "stream",
          "name": "stdout",
          "text": [
            "it\n",
            "is\n",
            "not\n",
            "a\n",
            "lack\n"
          ]
        },
        {
          "output_type": "execute_result",
          "data": {
            "text/plain": [
              "array([[[0., 0., 0., ..., 0., 0., 0.],\n",
              "        [0., 0., 0., ..., 0., 0., 0.],\n",
              "        [0., 0., 0., ..., 0., 0., 0.],\n",
              "        [0., 0., 0., ..., 0., 0., 0.],\n",
              "        [0., 0., 0., ..., 0., 0., 0.]]])"
            ]
          },
          "metadata": {},
          "execution_count": 16
        }
      ]
    },
    {
      "cell_type": "markdown",
      "metadata": {
        "id": "8NOzcX_QqXIl"
      },
      "source": [
        "## **Choosing best possible 'n' words**"
      ]
    },
    {
      "cell_type": "code",
      "metadata": {
        "id": "QOQ3Zao6oWcs"
      },
      "source": [
        "def sample(preds, top_n=3):\n",
        "    preds = np.asarray(preds).astype('float64')\n",
        "    preds = np.log(preds)\n",
        "    exp_preds = np.exp(preds)\n",
        "    preds = exp_preds / np.sum(exp_preds)\n",
        "\n",
        "    return heapq.nlargest(top_n, range(len(preds)), preds.take)"
      ],
      "execution_count": null,
      "outputs": []
    },
    {
      "cell_type": "markdown",
      "metadata": {
        "id": "eWk7Whc-qgMq"
      },
      "source": [
        "## **Prediction Function**"
      ]
    },
    {
      "cell_type": "code",
      "metadata": {
        "id": "Jb3nbrnPoZ5U"
      },
      "source": [
        "def predict_completions(text, n=3):\n",
        "    if text == \"\":\n",
        "        return(\"0\")\n",
        "    x = prepare_input(text)\n",
        "    preds = model.predict(x, verbose=0)[0]\n",
        "    next_indices = sample(preds, n)\n",
        "    return [unique_words[idx] for idx in next_indices]"
      ],
      "execution_count": null,
      "outputs": []
    },
    {
      "cell_type": "markdown",
      "metadata": {
        "id": "sueoi4mUqov7"
      },
      "source": [
        "## **Tokenizer used to tokenize, for removing punctuations. Also choosing  5 first words based on 5 previous words.**"
      ]
    },
    {
      "cell_type": "code",
      "metadata": {
        "id": "Jba7jKpoodGC",
        "colab": {
          "base_uri": "https://localhost:8080/"
        },
        "outputId": "289a895e-b325-4b05-abf9-19abf20d4ea9"
      },
      "source": [
        "q =  \"Light the candle instead of cursuing darkness\"\n",
        "print(\"correct sentence: \",q)\n",
        "seq = \" \".join(tokenizer.tokenize(q.lower())[0:5])\n",
        "print(\"Sequence: \",seq)\n",
        "print(\"next possible words: \", predict_completions(seq, 5))"
      ],
      "execution_count": null,
      "outputs": [
        {
          "output_type": "stream",
          "name": "stdout",
          "text": [
            "correct sentence:  Light the candle instead of cursuing darkness\n",
            "Sequence:  light the candle instead of\n",
            "light\n",
            "the\n",
            "candle\n",
            "instead\n",
            "of\n",
            "next possible words:  ['the', 'his', 'a', 'my', 'which']\n"
          ]
        }
      ]
    }
  ]
}
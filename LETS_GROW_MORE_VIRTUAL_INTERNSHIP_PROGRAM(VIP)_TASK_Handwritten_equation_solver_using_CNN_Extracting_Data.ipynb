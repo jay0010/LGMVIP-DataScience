{
  "nbformat": 4,
  "nbformat_minor": 0,
  "metadata": {
    "kernelspec": {
      "display_name": "Python 3",
      "language": "python",
      "name": "python3"
    },
    "language_info": {
      "codemirror_mode": {
        "name": "ipython",
        "version": 3
      },
      "file_extension": ".py",
      "mimetype": "text/x-python",
      "name": "python",
      "nbconvert_exporter": "python",
      "pygments_lexer": "ipython3",
      "version": "3.6.5"
    },
    "colab": {
      "name": "LETS GROW MORE VIRTUAL INTERNSHIP PROGRAM(VIP) TASK:Handwritten equation solver using CNN_Extracting Data.ipynb",
      "provenance": [],
      "collapsed_sections": [],
      "include_colab_link": true
    }
  },
  "cells": [
    {
      "cell_type": "markdown",
      "metadata": {
        "id": "view-in-github",
        "colab_type": "text"
      },
      "source": [
        "<a href=\"https://colab.research.google.com/github/jay0010/LGMVIP-DataScience/blob/main/LETS_GROW_MORE_VIRTUAL_INTERNSHIP_PROGRAM(VIP)_TASK_Handwritten_equation_solver_using_CNN_Extracting_Data.ipynb\" target=\"_parent\"><img src=\"https://colab.research.google.com/assets/colab-badge.svg\" alt=\"Open In Colab\"/></a>"
      ]
    },
    {
      "cell_type": "markdown",
      "metadata": {
        "id": "iG8wubyqKEcH"
      },
      "source": [
        "# **NAME : JAYAN KOKRU**\n",
        "# **LETS GROW MORE VIRTUAL INTERNSHIP PROGRAM(VIP)**\n",
        "# **ADVANCED LEVEL TASK :**"
      ]
    },
    {
      "cell_type": "markdown",
      "metadata": {
        "id": "JsXOtc3bKLJW"
      },
      "source": [
        "## **Handwritten equation solver using CNN :**\n",
        "## **Mathematical equation solver using character and symbol recognition using image processing and CNN**\n",
        "## **Watch Tutorial from here https://youtu.be/CBCfOTePVPo**\n",
        "### **DatasetLink: https://www.kaggle.com/xainano/handwrittenmathsymbols**"
      ]
    },
    {
      "cell_type": "markdown",
      "metadata": {
        "id": "JrlnkSi3KTa4"
      },
      "source": [
        "# **Extracting Data**"
      ]
    },
    {
      "cell_type": "markdown",
      "metadata": {
        "id": "t7WnNtocKy-o"
      },
      "source": [
        "# **IMPORTING LIBRARIES**"
      ]
    },
    {
      "cell_type": "code",
      "metadata": {
        "id": "LIJ0jpPO92D2"
      },
      "source": [
        "import numpy as np\n",
        "import cv2\n",
        "from PIL import Image\n",
        "from matplotlib import pyplot as plt\n",
        "%matplotlib inline\n",
        "import os\n",
        "from os import listdir\n",
        "from os.path import isfile, join\n",
        "import pandas as pd"
      ],
      "execution_count": null,
      "outputs": []
    },
    {
      "cell_type": "markdown",
      "metadata": {
        "id": "fxotjbQPK9LC"
      },
      "source": [
        "# **CREATING LOAD IMAGE FUNCTION**"
      ]
    },
    {
      "cell_type": "code",
      "metadata": {
        "id": "1ENO3oQa92D6"
      },
      "source": [
        "def load_images_from_folder(folder):\n",
        "    train_data=[]\n",
        "    for filename in os.listdir(folder):\n",
        "        img = cv2.imread(os.path.join(folder,filename),cv2.IMREAD_GRAYSCALE)\n",
        "        img=~img\n",
        "        if img is not None:\n",
        "            ret,thresh=cv2.threshold(img,127,255,cv2.THRESH_BINARY)\n",
        "            ret,ctrs,ret=cv2.findContours(thresh,cv2.RETR_EXTERNAL,cv2.CHAIN_APPROX_NONE)\n",
        "            cnt=sorted(ctrs, key=lambda ctr: cv2.boundingRect(ctr)[0])\n",
        "            w=int(28)\n",
        "            h=int(28)\n",
        "            maxi=0\n",
        "            for c in cnt:\n",
        "                x,y,w,h=cv2.boundingRect(c)\n",
        "                maxi=max(w*h,maxi)\n",
        "                if maxi==w*h:\n",
        "                    x_max=x\n",
        "                    y_max=y\n",
        "                    w_max=w\n",
        "                    h_max=h\n",
        "            im_crop= thresh[y_max:y_max+h_max+10, x_max:x_max+w_max+10]\n",
        "            im_resize = cv2.resize(im_crop,(28,28))\n",
        "            im_resize=np.reshape(im_resize,(784,1))\n",
        "            train_data.append(im_resize)\n",
        "    return train_data\n",
        "                \n",
        "                "
      ],
      "execution_count": null,
      "outputs": []
    },
    {
      "cell_type": "markdown",
      "metadata": {
        "id": "EgBXQk2LL1Me"
      },
      "source": [
        "# **LOADING DATA**"
      ]
    },
    {
      "cell_type": "code",
      "metadata": {
        "id": "GsRq-gZD92D7"
      },
      "source": [
        "data=[]"
      ],
      "execution_count": null,
      "outputs": []
    },
    {
      "cell_type": "code",
      "metadata": {
        "id": "ECS2imO592D8",
        "outputId": "844c02e0-63d5-40b0-b0e9-c56ae02514bf"
      },
      "source": [
        "data=load_images_from_folder('-')\n",
        "len(data)\n",
        "for i in range(0,len(data)):\n",
        "    data[i]=np.append(data[i],['10'])\n",
        "print(len(data))"
      ],
      "execution_count": null,
      "outputs": [
        {
          "name": "stdout",
          "output_type": "stream",
          "text": [
            "4152\n"
          ]
        }
      ]
    },
    {
      "cell_type": "code",
      "metadata": {
        "id": "7torAPwf92D9",
        "outputId": "d66cdb10-f9f8-490f-c3ab-e014d5c1ff99"
      },
      "source": [
        "data11=load_images_from_folder('+')\n",
        "for i in range(0,len(data11)):\n",
        "    data11[i]=np.append(data11[i],['11'])\n",
        "data=np.concatenate((data,data11))\n",
        "print(len(data))"
      ],
      "execution_count": null,
      "outputs": [
        {
          "name": "stdout",
          "output_type": "stream",
          "text": [
            "8184\n"
          ]
        }
      ]
    },
    {
      "cell_type": "code",
      "metadata": {
        "id": "yMdModfr92D-",
        "outputId": "b10c983a-f2d0-4916-c0a4-4112ea250879"
      },
      "source": [
        "data0=load_images_from_folder('0')\n",
        "for i in range(0,len(data0)):\n",
        "    data0[i]=np.append(data0[i],['0'])\n",
        "data=np.concatenate((data,data0))\n",
        "print(len(data))"
      ],
      "execution_count": null,
      "outputs": [
        {
          "name": "stdout",
          "output_type": "stream",
          "text": [
            "12018\n"
          ]
        }
      ]
    },
    {
      "cell_type": "code",
      "metadata": {
        "id": "v7mqyivy92D-",
        "outputId": "c9d99367-c656-465e-ade8-90bd3ee2079d"
      },
      "source": [
        "data1=load_images_from_folder('1')\n",
        "for i in range(0,len(data1)):\n",
        "    data1[i]=np.append(data1[i],['1'])\n",
        "data=np.concatenate((data,data1))\n",
        "print(len(data))"
      ],
      "execution_count": null,
      "outputs": [
        {
          "name": "stdout",
          "output_type": "stream",
          "text": [
            "16074\n"
          ]
        }
      ]
    },
    {
      "cell_type": "code",
      "metadata": {
        "id": "sLFwbVGs92D_",
        "outputId": "eabd7c5e-68be-4dc9-ce00-7c0625637ef6"
      },
      "source": [
        "data2=load_images_from_folder('2')\n",
        "for i in range(0,len(data2)):\n",
        "    data2[i]=np.append(data2[i],['2'])\n",
        "data=np.concatenate((data,data2))\n",
        "print(len(data))"
      ],
      "execution_count": null,
      "outputs": [
        {
          "name": "stdout",
          "output_type": "stream",
          "text": [
            "20334\n"
          ]
        }
      ]
    },
    {
      "cell_type": "code",
      "metadata": {
        "id": "xceVf7k692D_",
        "outputId": "071772e1-0c6e-4bce-b85d-6e653d779d5e"
      },
      "source": [
        "data3=load_images_from_folder('3')\n",
        "for i in range(0,len(data3)):\n",
        "    data3[i]=np.append(data3[i],['3'])\n",
        "data=np.concatenate((data,data3))\n",
        "print(len(data))"
      ],
      "execution_count": null,
      "outputs": [
        {
          "name": "stdout",
          "output_type": "stream",
          "text": [
            "23850\n"
          ]
        }
      ]
    },
    {
      "cell_type": "code",
      "metadata": {
        "id": "FDU5nQGl92EA",
        "outputId": "db78b808-c422-4ead-9f3b-5852580ba389"
      },
      "source": [
        "data4=load_images_from_folder('4')\n",
        "for i in range(0,len(data4)):\n",
        "    data4[i]=np.append(data4[i],['4'])\n",
        "data=np.concatenate((data,data4))\n",
        "print(len(data))"
      ],
      "execution_count": null,
      "outputs": [
        {
          "name": "stdout",
          "output_type": "stream",
          "text": [
            "27882\n"
          ]
        }
      ]
    },
    {
      "cell_type": "code",
      "metadata": {
        "id": "rnIPlUn292EB",
        "outputId": "b3be6825-94c2-4b6f-a8d5-679f9ca0838d"
      },
      "source": [
        "data5=load_images_from_folder('5')\n",
        "for i in range(0,len(data5)):\n",
        "    data5[i]=np.append(data5[i],['5'])\n",
        "data=np.concatenate((data,data5))\n",
        "print(len(data))"
      ],
      "execution_count": null,
      "outputs": [
        {
          "name": "stdout",
          "output_type": "stream",
          "text": [
            "31426\n"
          ]
        }
      ]
    },
    {
      "cell_type": "code",
      "metadata": {
        "id": "dLBX_wvR92EB",
        "outputId": "4f90b77a-5a1d-4515-a7ed-2a7369225fbc"
      },
      "source": [
        "data6=load_images_from_folder('6')\n",
        "for i in range(0,len(data6)):\n",
        "    data6[i]=np.append(data6[i],['6'])\n",
        "data=np.concatenate((data,data6))\n",
        "print(len(data))"
      ],
      "execution_count": null,
      "outputs": [
        {
          "name": "stdout",
          "output_type": "stream",
          "text": [
            "34543\n"
          ]
        }
      ]
    },
    {
      "cell_type": "code",
      "metadata": {
        "id": "OJB_EUX892EB",
        "outputId": "2980a862-1b51-452b-c5f1-db06e65f7e78"
      },
      "source": [
        "data7=load_images_from_folder('7')\n",
        "for i in range(0,len(data7)):\n",
        "    data7[i]=np.append(data7[i],['7'])\n",
        "data=np.concatenate((data,data7))\n",
        "print(len(data))"
      ],
      "execution_count": null,
      "outputs": [
        {
          "name": "stdout",
          "output_type": "stream",
          "text": [
            "37451\n"
          ]
        }
      ]
    },
    {
      "cell_type": "code",
      "metadata": {
        "id": "Is4j2G1Q92EC",
        "outputId": "04cee0ca-7290-4b94-e615-a1ed2a811b2c"
      },
      "source": [
        "data8=load_images_from_folder('8')\n",
        "for i in range(0,len(data8)):\n",
        "    data8[i]=np.append(data8[i],['8'])\n",
        "data=np.concatenate((data,data8))\n",
        "print(len(data))"
      ],
      "execution_count": null,
      "outputs": [
        {
          "name": "stdout",
          "output_type": "stream",
          "text": [
            "40518\n"
          ]
        }
      ]
    },
    {
      "cell_type": "code",
      "metadata": {
        "id": "i-c6KLM992EC",
        "outputId": "4a977089-56d8-4fc4-ac99-13f49b5c08bb"
      },
      "source": [
        "data9=load_images_from_folder('9')\n",
        "for i in range(0,len(data9)):\n",
        "    data9[i]=np.append(data9[i],['9'])\n",
        "data=np.concatenate((data,data9))\n",
        "print(len(data))"
      ],
      "execution_count": null,
      "outputs": [
        {
          "name": "stdout",
          "output_type": "stream",
          "text": [
            "44254\n"
          ]
        }
      ]
    },
    {
      "cell_type": "code",
      "metadata": {
        "id": "ya5GT6hV92EC",
        "outputId": "704b3cf2-9e45-42e9-92dc-bf862ab3638d"
      },
      "source": [
        "\n",
        "data12=load_images_from_folder('times')\n",
        "for i in range(0,len(data12)):\n",
        "    data12[i]=np.append(data12[i],['12'])\n",
        "data=np.concatenate((data,data12))\n",
        "print(len(data))"
      ],
      "execution_count": null,
      "outputs": [
        {
          "name": "stdout",
          "output_type": "stream",
          "text": [
            "47504\n"
          ]
        }
      ]
    },
    {
      "cell_type": "markdown",
      "metadata": {
        "id": "BAg2PuyGMEio"
      },
      "source": [
        "# STORING DATA "
      ]
    },
    {
      "cell_type": "code",
      "metadata": {
        "id": "7j6Qeb9x92ED"
      },
      "source": [
        "df=pd.DataFrame(data,index=None)\n",
        "df.to_csv('train_final.csv',index=False)"
      ],
      "execution_count": null,
      "outputs": []
    }
  ]
}